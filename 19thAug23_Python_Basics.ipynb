{
 "cells": [
  {
   "cell_type": "markdown",
   "id": "a3bcdb5b-528a-4df7-8674-ea4a3ab2947e",
   "metadata": {},
   "source": [
    "# Assignment"
   ]
  },
  {
   "cell_type": "markdown",
   "id": "12f65292-fa2c-4031-9a9e-7d3d6f9e9ccd",
   "metadata": {},
   "source": [
    "## TOPIC: Python Basics Variable"
   ]
  },
  {
   "cell_type": "markdown",
   "id": "05afd571-005a-4218-95d4-b49f7523daac",
   "metadata": {},
   "source": [
    "### 1. Declare two variables, `x` and `y`, and assign them integer values. Swap the values of these variables without using any temporary variable."
   ]
  },
  {
   "cell_type": "code",
   "execution_count": 1,
   "id": "3e0cbdaa-8907-47ee-8a2e-8a5d3ce3708a",
   "metadata": {},
   "outputs": [
    {
     "name": "stdout",
     "output_type": "stream",
     "text": [
      "The value of x=5 and y=3 before swap\n",
      "The value of x=3 and y=5 after swap\n"
     ]
    }
   ],
   "source": [
    "x = 5 # x variable defined\n",
    "y = 3 # y variable defined\n",
    "print(\"The value of x=\" + str(x) + \" and y=\" + str(y) + \" before swap\")\n",
    "\n",
    "x = x + y  # 5 + 3 = 8\n",
    "y = x - y  # 8 - 3 = 5\n",
    "x = x - y  # 8 - 5 = 3\n",
    "print(\"The value of x=\" + str(x) + \" and y=\" + str(y) + \" after swap\")"
   ]
  },
  {
   "cell_type": "markdown",
   "id": "ba5965b0-e977-4446-b93a-ab71162c03ee",
   "metadata": {},
   "source": [
    "### 2. Create a program that calculates the area of a rectangle. Take the length and width as inputs from the user and store them in variables. Calculate and display the area."
   ]
  },
  {
   "cell_type": "code",
   "execution_count": 2,
   "id": "d8645733-8719-4d28-a18c-5ef0c079c7cb",
   "metadata": {},
   "outputs": [
    {
     "name": "stdin",
     "output_type": "stream",
     "text": [
      "Enter the length of a rectangle :  4\n",
      "Enter the width of a rectangle :  3.2\n"
     ]
    },
    {
     "name": "stdout",
     "output_type": "stream",
     "text": [
      "The area of a rectangle is 12.8\n"
     ]
    }
   ],
   "source": [
    "length = float(input(\"Enter the length of a rectangle : \"))\n",
    "width = float(input(\"Enter the width of a rectangle : \"))\n",
    "\n",
    "area  = length * width\n",
    "\n",
    "print(\"The area of a rectangle is\", area)"
   ]
  },
  {
   "cell_type": "markdown",
   "id": "dba9d093-d10a-4816-893a-9d4f14e202a9",
   "metadata": {},
   "source": [
    "### 3. Write a Python program that converts temperatures from Celsius to Fahrenheit. Take the temperature in Celsius as input, store it in a variable, convert it to Fahrenheit, and display the result."
   ]
  },
  {
   "cell_type": "code",
   "execution_count": 3,
   "id": "8a015ebe-7fba-4a50-8549-b430d3a7a293",
   "metadata": {},
   "outputs": [
    {
     "name": "stdout",
     "output_type": "stream",
     "text": [
      "Program to convert temparature from degree Celsius to Fahrenheit.\n"
     ]
    },
    {
     "name": "stdin",
     "output_type": "stream",
     "text": [
      "Enter temparature value in degree Celsius:-  27\n"
     ]
    },
    {
     "name": "stdout",
     "output_type": "stream",
     "text": [
      "27.0 degree Celsius = 80.6 degree Fahrenheit\n"
     ]
    }
   ],
   "source": [
    "print(\"Program to convert temparature from degree Celsius to Fahrenheit.\")\n",
    "\n",
    "degree_Celsius = float(input(\"Enter temparature value in degree Celsius:- \"))\n",
    "\n",
    "degree_Fahrenheit = (degree_Celsius * 1.8) + 32\n",
    "\n",
    "print(f'{degree_Celsius} degree Celsius = {degree_Fahrenheit} degree Fahrenheit')\n"
   ]
  },
  {
   "cell_type": "markdown",
   "id": "9ef4082e-f8de-4505-b2ad-b481f453ea92",
   "metadata": {},
   "source": [
    "## TOPIC: String Based Questions"
   ]
  },
  {
   "cell_type": "markdown",
   "id": "40966aa0-bcb5-4528-9e5b-2ade76bf0f45",
   "metadata": {},
   "source": [
    "### 1. Write a Python program that takes a string as input and prints the length of the string."
   ]
  },
  {
   "cell_type": "code",
   "execution_count": 4,
   "id": "a9d33084-6947-4a67-a813-2431cc4fc2f4",
   "metadata": {},
   "outputs": [
    {
     "name": "stdout",
     "output_type": "stream",
     "text": [
      "This program will give you lenght of input string\n"
     ]
    },
    {
     "name": "stdin",
     "output_type": "stream",
     "text": [
      "Enter a string:-  Hello, Welcome to the GCP.\n"
     ]
    },
    {
     "name": "stdout",
     "output_type": "stream",
     "text": [
      "The length of \"Hello, Welcome to the GCP.\" input string is `26`.\n"
     ]
    }
   ],
   "source": [
    "print(\"This program will give you lenght of input string\")\n",
    "input_string = input(\"Enter a string:- \")\n",
    "\n",
    "print(f'The length of \"{input_string}\" input string is `{len(input_string)}`.')"
   ]
  },
  {
   "cell_type": "markdown",
   "id": "24de581c-47be-4ce0-bbed-3075a8b2c1d8",
   "metadata": {},
   "source": [
    "### 2. Create a program that takes a sentence from the user and counts the number of vowels (a, e, i, o, u) in the string."
   ]
  },
  {
   "cell_type": "code",
   "execution_count": 5,
   "id": "5450a05e-177a-405a-a83f-50a04604956c",
   "metadata": {},
   "outputs": [
    {
     "name": "stdout",
     "output_type": "stream",
     "text": [
      "Program will return vowels of input string.\n"
     ]
    },
    {
     "name": "stdin",
     "output_type": "stream",
     "text": [
      "Enter a string:-  I love my Bharat.\n"
     ]
    },
    {
     "name": "stdout",
     "output_type": "stream",
     "text": [
      "Number of vowels contai inside \"I love my Bharat.\" is/are `5`.\n"
     ]
    }
   ],
   "source": [
    "print(\"Program will return vowels of input string.\")\n",
    "input_string = input(\"Enter a string:- \")\n",
    "\n",
    "count = 0\n",
    "vowels = \"aeiouAEIOU\"\n",
    "\n",
    "for i in input_string :\n",
    "    if i in vowels :\n",
    "        count += 1\n",
    "\n",
    "print(f'Number of vowels contai inside \"{input_string}\" is/are `{count}`.')"
   ]
  },
  {
   "cell_type": "markdown",
   "id": "f08105b2-ce25-40f0-acdc-f8d3cc40753e",
   "metadata": {},
   "source": [
    "### 3. Given a string, reverse the order of characters using string slicing and print the reversed string."
   ]
  },
  {
   "cell_type": "code",
   "execution_count": 6,
   "id": "16aa61f6-aea5-48da-9166-f8e2f7cb7065",
   "metadata": {},
   "outputs": [
    {
     "name": "stdin",
     "output_type": "stream",
     "text": [
      "Enter a string which wil give you in reverse order:-  Happy Birthday\n"
     ]
    },
    {
     "name": "stdout",
     "output_type": "stream",
     "text": [
      "You entered \"Happy Birthday\" and reverse is `yadhtriB yppaH`.\n"
     ]
    }
   ],
   "source": [
    "original_string = input(\"Enter a string which wil give you in reverse order:- \")\n",
    "\n",
    "reverse_string = original_string[::-1]\n",
    "\n",
    "print(f'You entered \"{original_string}\" and reverse is `{reverse_string}`.')"
   ]
  },
  {
   "cell_type": "markdown",
   "id": "49e11864-337a-4c6d-bd7f-53626277153d",
   "metadata": {},
   "source": [
    "### 5. Create a program that takes a string as input and removes all the spaces from it. Print the modified string without spaces."
   ]
  },
  {
   "cell_type": "code",
   "execution_count": 7,
   "id": "eb4e0632-d7b4-4567-a44e-eea588822873",
   "metadata": {},
   "outputs": [
    {
     "name": "stdout",
     "output_type": "stream",
     "text": [
      "Program to remove spaces from entered string\n"
     ]
    },
    {
     "name": "stdin",
     "output_type": "stream",
     "text": [
      "Enter string :-  Hello,  how are       you  my dear friend   ?\n"
     ]
    },
    {
     "name": "stdout",
     "output_type": "stream",
     "text": [
      "Hello,howareyoumydearfriend?\n"
     ]
    }
   ],
   "source": [
    "print(\"Program to remove spaces from entered string\")\n",
    "\n",
    "input_string = input(\"Enter string :- \").replace(\" \",\"\") # Hello   my name is P R A N A V. H     a  ve a gr eat dayyy !!!\n",
    "\n",
    "print(input_string)"
   ]
  },
  {
   "cell_type": "code",
   "execution_count": null,
   "id": "9a530b70-ef39-49b6-adb6-620ccf6d89f0",
   "metadata": {},
   "outputs": [],
   "source": []
  }
 ],
 "metadata": {
  "kernelspec": {
   "display_name": "Python 3 (ipykernel)",
   "language": "python",
   "name": "python3"
  },
  "language_info": {
   "codemirror_mode": {
    "name": "ipython",
    "version": 3
   },
   "file_extension": ".py",
   "mimetype": "text/x-python",
   "name": "python",
   "nbconvert_exporter": "python",
   "pygments_lexer": "ipython3",
   "version": "3.10.8"
  }
 },
 "nbformat": 4,
 "nbformat_minor": 5
}
